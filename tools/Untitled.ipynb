{
 "cells": [
  {
   "cell_type": "code",
   "execution_count": 3,
   "metadata": {},
   "outputs": [
    {
     "name": "stdout",
     "output_type": "stream",
     "text": [
      "no. of Chris training emails: 7936\n",
      "no. of Sara training emails: 7884\n",
      "training time: 1.694 s\n",
      "training time: 1.89 s\n",
      "0.973265073948\n"
     ]
    }
   ],
   "source": [
    "import sys\n",
    "\n",
    "from time import time\n",
    "sys.path.append(\"/Users/davidding/Documents/GitHub/machine_learning/ud120-projects/tools\")\n",
    "from email_preprocess import preprocess\n",
    "\n",
    "\n",
    "### features_train and features_test are the features for the training\n",
    "### and testing datasets, respectively\n",
    "### labels_train and labels_test are the corresponding item labels\n",
    "features_train, features_test, labels_train, labels_test = preprocess()\n",
    "\n",
    "\n",
    "\n",
    "\n",
    "#########################################################\n",
    "### your code goes here ###\n",
    "from sklearn.naive_bayes import GaussianNB\n",
    "clf = GaussianNB()\n",
    "t0 = time()\n",
    "clf.fit(features_train,labels_train)\n",
    "print \"training time:\", round(time()-t0, 3), \"s\"\n",
    "pred = clf.predict(features_test)\n",
    "print \"training time:\", round(time()-t0, 3), \"s\"\n",
    "from sklearn.metrics import accuracy_score\n",
    "accuracy = accuracy_score(labels_test, pred)\n",
    "print accuracy\n",
    "#########################################################\n"
   ]
  },
  {
   "cell_type": "code",
   "execution_count": 17,
   "metadata": {},
   "outputs": [
    {
     "name": "stdout",
     "output_type": "stream",
     "text": [
      "no. of Chris training emails: 7936\n",
      "no. of Sara training emails: 7884\n",
      "0.892491467577\n",
      "1018\n"
     ]
    }
   ],
   "source": [
    "import sys\n",
    "import numpy as np\n",
    "from time import time\n",
    "sys.path.append(\"/Users/davidding/Documents/GitHub/machine_learning/ud120-projects-master/tools\")\n",
    "from email_preprocess import preprocess\n",
    "\n",
    "\n",
    "### features_train and features_test are the features for the training\n",
    "### and testing datasets, respectively\n",
    "### labels_train and labels_test are the corresponding item labels\n",
    "features_train, features_test, labels_train, labels_test = preprocess()\n",
    "\n",
    "\n",
    "#########################################################\n",
    "### your code goes here ###\n",
    "from sklearn.svm import SVC\n",
    "from sklearn.metrics import accuracy_score\n",
    "clf = SVC(kernel='rbf',C = 10000.0)\n",
    "features_train = features_train[:len(features_train)/100] \n",
    "labels_train = labels_train[:len(labels_train)/100] \n",
    "clf.fit(features_train, labels_train)\n",
    "pred = clf.predict(features_test)\n",
    "accuracy = accuracy_score(labels_test, pred)\n",
    "print accuracy\n",
    "'''\n",
    "count = 0\n",
    "for i in pred:\n",
    "    if i == 1:\n",
    "        count += 1\n",
    "print count\n",
    "'''\n",
    "print np.count_nonzero(pred == 1)"
   ]
  },
  {
   "cell_type": "code",
   "execution_count": 1,
   "metadata": {},
   "outputs": [
    {
     "name": "stdout",
     "output_type": "stream",
     "text": [
      "/Users/davidding/Documents/GitHub/machine_learning/ud120-projects-master/tools\n"
     ]
    }
   ],
   "source": [
    "import os\n",
    "print os.getcwd()"
   ]
  },
  {
   "cell_type": "code",
   "execution_count": 1,
   "metadata": {},
   "outputs": [
    {
     "name": "stderr",
     "output_type": "stream",
     "text": [
      "/Users/davidding/anaconda/lib/python2.7/site-packages/sklearn/cross_validation.py:41: DeprecationWarning: This module was deprecated in version 0.18 in favor of the model_selection module into which all the refactored classes and functions are moved. Also note that the interface of the new CV iterators are different from that of this module. This module will be removed in 0.20.\n",
      "  \"This module will be removed in 0.20.\", DeprecationWarning)\n"
     ]
    },
    {
     "name": "stdout",
     "output_type": "stream",
     "text": [
      "no. of Chris training emails: 7936\n",
      "no. of Sara training emails: 7884\n",
      "379\n",
      "[ 0.          0.          0.07352346  0.          0.        ]\n",
      "training time: 4.48 s\n",
      "training time: 4.482 s\n",
      "0.967007963595\n"
     ]
    }
   ],
   "source": [
    "import sys\n",
    "from sklearn import tree\n",
    "from sklearn.metrics import accuracy_score\n",
    "from time import time\n",
    "sys.path.append(\"/Users/davidding/Documents/GitHub/machine_learning/ud120-projects-master/tools\")\n",
    "from email_preprocess import preprocess\n",
    "\n",
    "\n",
    "### features_train and features_test are the features for the training\n",
    "### and testing datasets, respectively\n",
    "### labels_train and labels_test are the corresponding item labels\n",
    "features_train, features_test, labels_train, labels_test = preprocess()\n",
    "\n",
    "print len(features_train[0])\n",
    "print features_train[0][:5]\n",
    "\n",
    "#########################################################\n",
    "### your code goes here ###\n",
    "t0 = time()\n",
    "clf = tree.DecisionTreeClassifier(min_samples_split=40)\n",
    "clf.fit(features_train, labels_train)\n",
    "print \"training time:\", round(time()-t0, 3), \"s\"\n",
    "pred = clf.predict(features_test)\n",
    "print \"training time:\", round(time()-t0, 3), \"s\"\n",
    "accuracy = accuracy_score(pred, labels_test)\n",
    "print accuracy\n",
    "#########################################################\n"
   ]
  },
  {
   "cell_type": "code",
   "execution_count": null,
   "metadata": {
    "collapsed": true
   },
   "outputs": [],
   "source": []
  }
 ],
 "metadata": {
  "kernelspec": {
   "display_name": "Python 2",
   "language": "python",
   "name": "python2"
  },
  "language_info": {
   "codemirror_mode": {
    "name": "ipython",
    "version": 2
   },
   "file_extension": ".py",
   "mimetype": "text/x-python",
   "name": "python",
   "nbconvert_exporter": "python",
   "pygments_lexer": "ipython2",
   "version": "2.7.13"
  }
 },
 "nbformat": 4,
 "nbformat_minor": 2
}
